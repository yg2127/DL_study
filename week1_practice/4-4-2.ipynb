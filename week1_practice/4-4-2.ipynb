{
 "cells": [
  {
   "cell_type": "code",
   "id": "initial_id",
   "metadata": {
    "collapsed": true,
    "ExecuteTime": {
     "end_time": "2025-04-08T16:21:02.266210Z",
     "start_time": "2025-04-08T16:21:01.565427Z"
    }
   },
   "source": [
    "import torch\n",
    "x_data = torch.FloatTensor([[i] for i in range(10)]) #shape: (10, 1)\n",
    "y_data = torch.FloatTensor([[0],[1],[1],[1],[1],[1],[0],[1],[0],[0]])"
   ],
   "outputs": [],
   "execution_count": 1
  },
  {
   "metadata": {},
   "cell_type": "code",
   "outputs": [],
   "execution_count": null,
   "source": [
    "import torch.nn as nn\n",
    "\n",
    "class HoleClassifier(nn.Module):\n",
    "    def __init__(self):\n",
    "        super().__init__()\n",
    "        self.net = nn.sequential(\n",
    "            nn.Linear(1,10),\n",
    "            nn.ReLU(),\n",
    "            nn.Linear(10,1)\n",
    "        )\n",
    "    def forward(self, x):\n",
    "        return self.net(x)"
   ],
   "id": "ccaf9ba19782dccd"
  }
 ],
 "metadata": {
  "kernelspec": {
   "display_name": "Python (conda-ygenvironment)",
   "language": "python",
   "name": "ygenvironment"
  },
  "language_info": {
   "codemirror_mode": {
    "name": "ipython",
    "version": 2
   },
   "file_extension": ".py",
   "mimetype": "text/x-python",
   "name": "python",
   "nbconvert_exporter": "python",
   "pygments_lexer": "ipython2",
   "version": "2.7.6"
  }
 },
 "nbformat": 4,
 "nbformat_minor": 5
}
