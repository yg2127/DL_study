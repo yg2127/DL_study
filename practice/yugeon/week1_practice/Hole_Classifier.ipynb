{
 "cells": [
  {
   "cell_type": "code",
   "id": "initial_id",
   "metadata": {
    "collapsed": true,
    "ExecuteTime": {
     "end_time": "2025-04-08T16:50:40.364620Z",
     "start_time": "2025-04-08T16:50:40.360058Z"
    }
   },
   "source": [
    "import torch\n",
    "x_data = torch.FloatTensor([[i] for i in range(10)]) #shape: (10, 1)\n",
    "y_data = torch.FloatTensor([[0],[1],[1],[1],[1],[1],[0],[1],[0],[0]])"
   ],
   "outputs": [],
   "execution_count": 12
  },
  {
   "metadata": {
    "ExecuteTime": {
     "end_time": "2025-04-08T16:50:40.378649Z",
     "start_time": "2025-04-08T16:50:40.375044Z"
    }
   },
   "cell_type": "code",
   "source": [
    "import torch.nn as nn\n",
    "\n",
    "class HoleClassifier(nn.Module):\n",
    "    def __init__(self):\n",
    "        super().__init__()\n",
    "        self.net = nn.Sequential(\n",
    "            nn.Linear(1,10),\n",
    "            nn.ReLU(),\n",
    "            nn.Linear(10,1)\n",
    "        )\n",
    "    def forward(self, x):\n",
    "        return self.net(x)"
   ],
   "id": "ccaf9ba19782dccd",
   "outputs": [],
   "execution_count": 13
  },
  {
   "metadata": {
    "ExecuteTime": {
     "end_time": "2025-04-08T16:50:40.497335Z",
     "start_time": "2025-04-08T16:50:40.386067Z"
    }
   },
   "cell_type": "code",
   "source": [
    "model = HoleClassifier()\n",
    "criterion = nn.MSELoss()\n",
    "optimizer = torch.optim.Adam(model.parameters(), lr=0.01)\n",
    "\n",
    "for epoch in range(1000):\n",
    "    optimizer.zero_grad()\n",
    "    outputs = model(x_data)\n",
    "    loss = criterion(outputs, y_data)\n",
    "    loss.backward()\n",
    "    optimizer.step()\n",
    "\n",
    "    if epoch % 100 == 0:\n",
    "        print(f'Epoch {epoch}, Loss: {loss.item():.4f}')"
   ],
   "id": "e86e1bb9d9e08bd0",
   "outputs": [
    {
     "name": "stdout",
     "output_type": "stream",
     "text": [
      "Epoch 0, Loss: 0.6490\n",
      "Epoch 100, Loss: 0.0814\n",
      "Epoch 200, Loss: 0.0800\n",
      "Epoch 300, Loss: 0.0800\n",
      "Epoch 400, Loss: 0.0800\n",
      "Epoch 500, Loss: 0.0800\n",
      "Epoch 600, Loss: 0.0800\n",
      "Epoch 700, Loss: 0.0800\n",
      "Epoch 800, Loss: 0.0800\n",
      "Epoch 900, Loss: 0.0800\n"
     ]
    }
   ],
   "execution_count": 14
  },
  {
   "metadata": {
    "ExecuteTime": {
     "end_time": "2025-04-08T16:50:40.506406Z",
     "start_time": "2025-04-08T16:50:40.503287Z"
    }
   },
   "cell_type": "code",
   "source": [
    "with torch.no_grad():\n",
    "    test_input = torch.FloatTensor([[2], [6], [8], [1], [0]])\n",
    "    logits = model(test_input)\n",
    "    probs = torch.sigmoid(logits)\n",
    "    preds = (probs > 0.5).float()\n",
    "    print(\"입력:\", test_input.squeeze().tolist())\n",
    "    print(\"예측:\", preds.squeeze().tolist())"
   ],
   "id": "f6cba40fc3d1cfda",
   "outputs": [
    {
     "name": "stdout",
     "output_type": "stream",
     "text": [
      "입력: [2.0, 6.0, 8.0, 1.0, 0.0]\n",
      "예측: [1.0, 1.0, 1.0, 1.0, 0.0]\n"
     ]
    }
   ],
   "execution_count": 15
  },
  {
   "metadata": {},
   "cell_type": "markdown",
   "source": "주석 달아가면서 학습의 흐름 정리해놓기",
   "id": "2ca3b0e18bb7394d"
  },
  {
   "metadata": {
    "ExecuteTime": {
     "end_time": "2025-04-08T16:50:40.514581Z",
     "start_time": "2025-04-08T16:50:40.513050Z"
    }
   },
   "cell_type": "code",
   "source": "",
   "id": "5fe9d1d27d2b77c",
   "outputs": [],
   "execution_count": null
  },
  {
   "metadata": {},
   "cell_type": "markdown",
   "source": [
    "엥? 6, 8은 동그라미 들어가있으니까 0 나와야 하는데 1이 나왔네? 뭐야이거! 성능 꾸졌네!!\n",
    "-> 딥러닝은 패턴분류에 탁월한데 입력이 그냥 숫자 하나라서 그럼 이산적인 숫자 하나는 동그라미가 있는지와\n",
    "   직접적인 연관이 없음! 차라리 숫자 이미지 파일을 줘 놓고 동그라미 있는지 없는지 분류하라고 했으면\n",
    "   더 잘했을거야. onehot-encoding하거나 머신러닝에서 decision-tree, rule-based system 사용했으면\n",
    "   훨씬 더 분류 잘 했을듯!"
   ],
   "id": "b0a9340b766807ff"
  },
  {
   "metadata": {},
   "cell_type": "markdown",
   "source": "",
   "id": "87ce6e96668eb95a"
  }
 ],
 "metadata": {
  "kernelspec": {
   "display_name": "Python (conda-ygenvironment)",
   "language": "python",
   "name": "ygenvironment"
  },
  "language_info": {
   "codemirror_mode": {
    "name": "ipython",
    "version": 2
   },
   "file_extension": ".py",
   "mimetype": "text/x-python",
   "name": "python",
   "nbconvert_exporter": "python",
   "pygments_lexer": "ipython2",
   "version": "2.7.6"
  }
 },
 "nbformat": 4,
 "nbformat_minor": 5
}
