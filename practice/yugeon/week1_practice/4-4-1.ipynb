{
 "cells": [
  {
   "cell_type": "code",
   "id": "initial_id",
   "metadata": {
    "collapsed": true,
    "ExecuteTime": {
     "end_time": "2025-04-08T16:00:10.718294Z",
     "start_time": "2025-04-08T16:00:09.863307Z"
    }
   },
   "source": "import torch",
   "outputs": [],
   "execution_count": 2
  },
  {
   "metadata": {
    "ExecuteTime": {
     "end_time": "2025-04-08T16:00:11.498575Z",
     "start_time": "2025-04-08T16:00:11.493076Z"
    }
   },
   "cell_type": "code",
   "source": [
    "w = torch.FloatTensor([[1,2],\n",
    "                       [3,4],\n",
    "                       [5,6]])\n",
    "b = torch.FloatTensor([2,2])"
   ],
   "id": "22edee25d00e144c",
   "outputs": [],
   "execution_count": 3
  },
  {
   "metadata": {
    "ExecuteTime": {
     "end_time": "2025-04-08T16:01:06.113417Z",
     "start_time": "2025-04-08T16:01:06.111221Z"
    }
   },
   "cell_type": "code",
   "source": [
    "def linear (x, w, b):\n",
    "    y = torch.matmul(x,w)+b\n",
    "\n",
    "    return y"
   ],
   "id": "13a725d6f26ff5ed",
   "outputs": [],
   "execution_count": 4
  },
  {
   "metadata": {
    "ExecuteTime": {
     "end_time": "2025-04-08T16:03:04.952722Z",
     "start_time": "2025-04-08T16:03:04.949164Z"
    }
   },
   "cell_type": "code",
   "source": [
    "x = torch.FloatTensor(4,3)\n",
    "\n",
    "y = linear(x, w, b)\n",
    "print(y.size())"
   ],
   "id": "895375499b04b3fa",
   "outputs": [
    {
     "name": "stdout",
     "output_type": "stream",
     "text": [
      "torch.Size([4, 2])\n"
     ]
    }
   ],
   "execution_count": 6
  },
  {
   "metadata": {},
   "cell_type": "code",
   "outputs": [],
   "execution_count": null,
   "source": "",
   "id": "6a3e7de07d279603"
  }
 ],
 "metadata": {
  "kernelspec": {
   "display_name": "Python (conda-ygenvironment)",
   "language": "python",
   "name": "ygenvironment"
  },
  "language_info": {
   "codemirror_mode": {
    "name": "ipython",
    "version": 2
   },
   "file_extension": ".py",
   "mimetype": "text/x-python",
   "name": "python",
   "nbconvert_exporter": "python",
   "pygments_lexer": "ipython2",
   "version": "2.7.6"
  }
 },
 "nbformat": 4,
 "nbformat_minor": 5
}
