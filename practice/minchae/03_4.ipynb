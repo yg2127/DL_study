{
 "cells": [
  {
   "cell_type": "code",
   "execution_count": 1,
   "id": "0f9f07cd",
   "metadata": {},
   "outputs": [],
   "source": [
    "import torch"
   ]
  },
  {
   "cell_type": "code",
   "execution_count": null,
   "id": "f8ed1d31",
   "metadata": {},
   "outputs": [
    {
     "name": "stdout",
     "output_type": "stream",
     "text": [
      "tensor([[3., 4.],\n",
      "        [6., 7.]])\n",
      "tensor([[-1.,  0.],\n",
      "        [ 0.,  1.]])\n",
      "tensor([[ 2.,  4.],\n",
      "        [ 9., 12.]])\n",
      "tensor([[0.5000, 1.0000],\n",
      "        [1.0000, 1.3333]])\n",
      "tensor([[ 1.,  4.],\n",
      "        [27., 64.]])\n",
      "tensor([[False,  True],\n",
      "        [ True, False]])\n",
      "tensor([[ True, False],\n",
      "        [False,  True]])\n"
     ]
    }
   ],
   "source": [
    "# 요소별 산술 연산\n",
    "\n",
    "a = torch.FloatTensor([[1, 2],\n",
    "                        [3, 4]])\n",
    "b = torch.FloatTensor([[2, 2],\n",
    "                        [3, 3]])\n",
    "\n",
    "print(a + b)    # 요소별 덧셈\n",
    "print(a - b)    # 요소별 뺄셈\n",
    "print(a * b)    # 요소별 곱셈\n",
    "print(a / b)    # 요소별 나눗셈\n",
    "print(a ** b)   # 요소별 거듭제곱\n",
    "print(a == b)   # 요소별 값 비교 (같으면 True, 다르면 False)\n",
    "print(a != b)   # 요소별 값 비교 (다르면 True, 같으면 False)"
   ]
  },
  {
   "cell_type": "code",
   "execution_count": null,
   "id": "0c6d9736",
   "metadata": {},
   "outputs": [
    {
     "name": "stdout",
     "output_type": "stream",
     "text": [
      "tensor([[1., 2.],\n",
      "        [3., 4.]])\n",
      "tensor([[ 2.,  4.],\n",
      "        [ 9., 12.]])\n",
      "tensor([[1., 2.],\n",
      "        [3., 4.]])\n",
      "tensor([[ 2.,  4.],\n",
      "        [ 9., 12.]])\n",
      "tensor([[ 2.,  4.],\n",
      "        [ 9., 12.]])\n"
     ]
    }
   ],
   "source": [
    "# 인플레이스 연산\n",
    "\n",
    "a = torch.FloatTensor([[1, 2],\n",
    "                        [3, 4]])\n",
    "print(a)                # 원래 텐서 출력\n",
    "print(a.mul(b))         # 곱셈 결과를 새로운 텐서로 반환 -> a는 변하지 않음\n",
    "print(a)                # 원래 텐서 그대로 유지\n",
    "print(a.mul_(b))        # mul_처럼 함수명 뒤에 _가 붙으면 인플레이스 연산 -> 기존 텐서 a가 수정됨\n",
    "print(a)                # 수정된 텐서 출력"
   ]
  },
  {
   "cell_type": "code",
   "execution_count": null,
   "id": "579de9d2",
   "metadata": {},
   "outputs": [
    {
     "name": "stdout",
     "output_type": "stream",
     "text": [
      "tensor(10.)\n",
      "tensor(2.5000)\n",
      "tensor([4., 6.])\n",
      "tensor([3., 7.])\n"
     ]
    }
   ],
   "source": [
    "# 차원 축소 연산\n",
    "\n",
    "x = torch.FloatTensor([[1, 2],\n",
    "                        [3, 4]])\n",
    "\n",
    "print(x.sum())          # 전체 요소의 합\n",
    "print(x.mean())         # 전체 요소의 평균\n",
    "\n",
    "print(x.sum(dim=0))     # 열(column) 기준 합\n",
    "print(x.sum(dim=-1))    # 행(row) 기준 합"
   ]
  },
  {
   "cell_type": "code",
   "execution_count": null,
   "id": "fb3e3535",
   "metadata": {},
   "outputs": [
    {
     "name": "stdout",
     "output_type": "stream",
     "text": [
      "tensor([[2., 3.],\n",
      "        [4., 5.]])\n",
      "torch.Size([2, 2])\n"
     ]
    }
   ],
   "source": [
    "# 텐서 + 스칼라: 모든 요소에 스칼라 값이 더해짐 (브로드캐스팅)\n",
    "\n",
    "x = torch.FloatTensor([[1, 2],\n",
    "                        [3, 4]])\n",
    "y = 1\n",
    "\n",
    "z = x + y\n",
    "print(z)            # 각 요소에 1이 더해짐 -> [[2, 3], [4, 5]]\n",
    "print(z.size())     # 결과 텐서의 크기: [2, 2]"
   ]
  },
  {
   "cell_type": "code",
   "execution_count": null,
   "id": "792990d0",
   "metadata": {},
   "outputs": [
    {
     "name": "stdout",
     "output_type": "stream",
     "text": [
      "torch.Size([2, 2])\n",
      "torch.Size([2])\n",
      "tensor([[4., 7.],\n",
      "        [6., 9.]])\n",
      "torch.Size([2, 2])\n"
     ]
    }
   ],
   "source": [
    "# 텐서 + 벡터: 벡터가 각 행에 브로드캐스팅되어 더해짐\n",
    "\n",
    "x = torch.FloatTensor([[1, 2],\n",
    "                        [3, 4]])\n",
    "y = torch.FloatTensor([3,\n",
    "                        5])\n",
    "\n",
    "print(x.size())     # 텐서 x의 크기: [2, 2]\n",
    "print(y.size())     # 벡터 y의 크기: [2]\n",
    "\n",
    "z = x + y\n",
    "print(z)            # y가 각 열에 맞게 브로드캐스팅됨 -> [[1 + 3, 2 + 5], [3 + 3, 4 + 5]] = [[4, 7], [6, 9]]\n",
    "print(z.size())     # 결과 텐서의 크기: [2, 2]"
   ]
  },
  {
   "cell_type": "code",
   "execution_count": null,
   "id": "6e925395",
   "metadata": {},
   "outputs": [
    {
     "name": "stdout",
     "output_type": "stream",
     "text": [
      "torch.Size([1, 2])\n",
      "torch.Size([2, 1])\n",
      "tensor([[4., 5.],\n",
      "        [6., 7.]])\n",
      "torch.Size([2, 2])\n"
     ]
    }
   ],
   "source": [
    "# 텐서 + 텐서: 서로 다른 크기의 텐서 간 브로드캐스팅 연산\n",
    "\n",
    "x = torch.FloatTensor([[1, 2]])     # 크기: [1, 2]\n",
    "y = torch.FloatTensor([[3],\n",
    "                        [5]])       # 크기: [2, 1]\n",
    "\n",
    "print(x.size())     # 텐서 x의 크기: [1, 2]\n",
    "print(y.size())     # 텐서 y의 크기: [2, 1]\n",
    "\n",
    "z = x + y\n",
    "print(z)            # x과 y가 서로 브로드캐스팅됨 -> [[1 + 3, 2 + 3], [1 + 5, 2 + 5]] = [[4, 5], [6, 7]]\n",
    "print(z.size())     # 결과 텐서의 크기: [2, 2]"
   ]
  }
 ],
 "metadata": {
  "kernelspec": {
   "display_name": "base",
   "language": "python",
   "name": "python3"
  },
  "language_info": {
   "codemirror_mode": {
    "name": "ipython",
    "version": 3
   },
   "file_extension": ".py",
   "mimetype": "text/x-python",
   "name": "python",
   "nbconvert_exporter": "python",
   "pygments_lexer": "ipython3",
   "version": "3.11.10"
  }
 },
 "nbformat": 4,
 "nbformat_minor": 5
}
