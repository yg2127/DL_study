{
 "cells": [
  {
   "cell_type": "code",
   "execution_count": 1,
   "id": "21db27a6",
   "metadata": {},
   "outputs": [],
   "source": [
    "import torch"
   ]
  },
  {
   "cell_type": "code",
   "execution_count": null,
   "id": "b6b8907d",
   "metadata": {},
   "outputs": [
    {
     "name": "stdout",
     "output_type": "stream",
     "text": [
      "torch.Size([3, 2, 2])\n",
      "tensor([ 1.,  2.,  3.,  4.,  5.,  6.,  7.,  8.,  9., 10., 11., 12.])\n",
      "tensor([[ 1.,  2.,  3.,  4.],\n",
      "        [ 5.,  6.,  7.,  8.],\n",
      "        [ 9., 10., 11., 12.]])\n",
      "tensor([[[ 1.,  2.,  3.,  4.]],\n",
      "\n",
      "        [[ 5.,  6.,  7.,  8.]],\n",
      "\n",
      "        [[ 9., 10., 11., 12.]]])\n",
      "tensor([ 1.,  2.,  3.,  4.,  5.,  6.,  7.,  8.,  9., 10., 11., 12.])\n",
      "tensor([[ 1.,  2.,  3.,  4.],\n",
      "        [ 5.,  6.,  7.,  8.],\n",
      "        [ 9., 10., 11., 12.]])\n",
      "tensor([[[ 1.,  2.,  3.,  4.]],\n",
      "\n",
      "        [[ 5.,  6.,  7.,  8.]],\n",
      "\n",
      "        [[ 9., 10., 11., 12.]]])\n"
     ]
    }
   ],
   "source": [
    "# view 함수: 텐서의 모양(Shape)을 바꾸는 함수\n",
    "\n",
    "x = torch.FloatTensor([[[1, 2],\n",
    "                        [3, 4]],\n",
    "                        [[5, 6],\n",
    "                        [7, 8]],\n",
    "                        [[9, 10],\n",
    "                        [11, 12]]])\n",
    "print(x.size())         # 원래 크기: [3, 2, 2]\n",
    "print(x.view(12))       # 1D 벡터로 변환 -> [12]\n",
    "print(x.view(3, 4))     # 2D 텐서로 재구성 -> [3, 4]\n",
    "print(x.view(3, 1, 4))  # 3D 텐서로 재구성 -> [3, 1, 4]\n",
    "print(x.view(-1))       # 전체 요소 수를 기준으로 1D로 변환 -> [12]\n",
    "print(x.view(3, -1))    # 첫 차원은 3, 나머지는 자동 계산 -> [3, 4]\n",
    "print(x.view(-1, 1, 4)) # 마지막 두 차원 지정, 나머지는 자동 계산 -> [3, 1, 4]\n"
   ]
  },
  {
   "cell_type": "code",
   "execution_count": null,
   "id": "66b6619a",
   "metadata": {},
   "outputs": [
    {
     "name": "stdout",
     "output_type": "stream",
     "text": [
      "torch.Size([1, 2, 2])\n",
      "tensor([[1., 2.],\n",
      "        [3., 4.]])\n",
      "torch.Size([2, 2])\n",
      "torch.Size([2, 2])\n",
      "torch.Size([1, 2, 2])\n"
     ]
    }
   ],
   "source": [
    "# squeeze 함수: 크기가 1인 차원을 제거\n",
    "\n",
    "x = torch.FloatTensor([[[1, 2],\n",
    "                        [3, 4]]])\n",
    "print(x.size())                 # 원래 크기: [1, 2, 2]\n",
    "print(x.squeeze())              # 모든 크기 1인 차원 제거 -> [2, 2]\n",
    "print(x.squeeze().size())       # 결과 크기: [2, 2]\n",
    "print(x.squeeze(0).size())      # 0번 차원만 제거 -> [2, 2]\n",
    "print(x.squeeze(1).size())      # 1번 차원은 2이므로 제거되지 않음 -> [1, 2, 2]"
   ]
  },
  {
   "cell_type": "code",
   "execution_count": null,
   "id": "d249aab5",
   "metadata": {},
   "outputs": [
    {
     "name": "stdout",
     "output_type": "stream",
     "text": [
      "torch.Size([2, 2])\n",
      "torch.Size([1, 2, 2])\n",
      "torch.Size([2, 1, 2])\n",
      "torch.Size([2, 2, 1])\n"
     ]
    }
   ],
   "source": [
    "# unsqueeze 함수: 크기 1인 차원을 추가\n",
    "\n",
    "x = torch.FloatTensor([[1, 2],\n",
    "                        [3, 4]])\n",
    "print(x.size())                 # 원래 크기: [2, 2]\n",
    "print(x.unsqueeze(0).size())    # 0번 차원에 1 추가 -> [1, 2, 2]\n",
    "print(x.unsqueeze(1).size())    # 1번 차원에 1 추가 -> [2, 1, 2]\n",
    "print(x.unsqueeze(2).size())    # 2번 차원에 1 추가 -> [2, 2, 1]"
   ]
  }
 ],
 "metadata": {
  "kernelspec": {
   "display_name": "base",
   "language": "python",
   "name": "python3"
  },
  "language_info": {
   "codemirror_mode": {
    "name": "ipython",
    "version": 3
   },
   "file_extension": ".py",
   "mimetype": "text/x-python",
   "name": "python",
   "nbconvert_exporter": "python",
   "pygments_lexer": "ipython3",
   "version": "3.11.10"
  }
 },
 "nbformat": 4,
 "nbformat_minor": 5
}
