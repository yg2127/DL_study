{
 "cells": [
  {
   "cell_type": "code",
   "execution_count": 1,
   "id": "d6665b27",
   "metadata": {},
   "outputs": [],
   "source": [
    "import torch"
   ]
  },
  {
   "cell_type": "code",
   "execution_count": 2,
   "id": "7451394f",
   "metadata": {},
   "outputs": [
    {
     "name": "stdout",
     "output_type": "stream",
     "text": [
      "torch.Size([3, 2]) torch.Size([2, 2])\n",
      "torch.Size([3, 2])\n"
     ]
    }
   ],
   "source": [
    "# 행렬 곱: 일반적인 2차원 행렬 곱셈\n",
    "\n",
    "x = torch.FloatTensor([i for i in range(6)]).reshape(3, 2)\n",
    "y = torch.FloatTensor([i for i in range(4)]).reshape(2, 2)\n",
    "print (x.size(), y.size())\n",
    "\n",
    "z = torch.matmul(x, y) # 3 x 2 @ 2 x 2 -> 3 x 2 행렬곱 결과\n",
    "print(z.size())"
   ]
  },
  {
   "cell_type": "code",
   "execution_count": 3,
   "id": "48ce42ab",
   "metadata": {},
   "outputs": [
    {
     "name": "stdout",
     "output_type": "stream",
     "text": [
      "torch.Size([3, 3, 3])\n"
     ]
    }
   ],
   "source": [
    "# 배치 행렬 곱: 3차원 텐서를 사용하여 여러 쌍의 행렬을 한꺼번에 곱함\n",
    "\n",
    "x = torch.FloatTensor(3, 3, 2) # 배치 크기 3, 각 행렬은 3 x 2\n",
    "y = torch.FloatTensor(3, 2, 3) # 배치 크기 3, 각 행렬은 2 x 3\n",
    "z = torch.bmm(x, y)  # 각 배치에서 3 x 2 @ 2 x 3 -> 3 x 3 행렬 생성\n",
    "print(z.size())"
   ]
  }
 ],
 "metadata": {
  "kernelspec": {
   "display_name": "base",
   "language": "python",
   "name": "python3"
  },
  "language_info": {
   "codemirror_mode": {
    "name": "ipython",
    "version": 3
   },
   "file_extension": ".py",
   "mimetype": "text/x-python",
   "name": "python",
   "nbconvert_exporter": "python",
   "pygments_lexer": "ipython3",
   "version": "3.11.10"
  }
 },
 "nbformat": 4,
 "nbformat_minor": 5
}
