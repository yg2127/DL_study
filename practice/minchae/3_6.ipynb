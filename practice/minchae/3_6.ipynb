{
 "cells": [
  {
   "cell_type": "code",
   "execution_count": 1,
   "id": "128b29a2",
   "metadata": {},
   "outputs": [],
   "source": [
    "import torch"
   ]
  },
  {
   "cell_type": "code",
   "execution_count": null,
   "id": "4b8ec341",
   "metadata": {},
   "outputs": [
    {
     "name": "stdout",
     "output_type": "stream",
     "text": [
      "torch.Size([3, 2, 2])\n",
      "tensor([[1., 2.],\n",
      "        [3., 4.]])\n",
      "tensor([[ 9., 10.],\n",
      "        [11., 12.]])\n",
      "tensor([[ 1.,  2.],\n",
      "        [ 5.,  6.],\n",
      "        [ 9., 10.]])\n",
      "tensor([[[7., 8.]]])\n"
     ]
    }
   ],
   "source": [
    "# 인덱싱과 슬라이싱: 텐서에서 원하는 위치의 데이터를 추출하는 방법\n",
    "\n",
    "x = torch.FloatTensor([[[1, 2],\n",
    "                        [3, 4]],\n",
    "                        [[5, 6],\n",
    "                        [7, 8]],\n",
    "                        [[9, 10],\n",
    "                        [11, 12]]])\n",
    "print(x.size())             # 크기: [3, 2, 2]\n",
    "print(x[0])                 # 첫 번째 2 x 2 텐서 추출\n",
    "print(x[-1])                # 마지막 2 x 2 텐서 추출\n",
    "print(x[:, 0])              # 각 텐서의 첫 번째 행만 추출 -> 크기: [3, 2]\n",
    "print(x[1:2, 1:, :])        # 두 번째 텐서의 두 번째 행만 추출 -> 크기: [1, 1, 2]"
   ]
  },
  {
   "cell_type": "code",
   "execution_count": 3,
   "id": "4778d7fc",
   "metadata": {},
   "outputs": [
    {
     "name": "stdout",
     "output_type": "stream",
     "text": [
      "torch.Size([4, 4])\n",
      "torch.Size([4, 4])\n",
      "torch.Size([2, 4])\n"
     ]
    }
   ],
   "source": [
    "# split 함수: 텐서를 특정 크기로 나눔\n",
    "\n",
    "x = torch.FloatTensor(10, 4)\n",
    "splits = x.split(4, dim=0)          # 0번 차원을 기준으로 4개씩 나눔 -> 결과는 [4, 4], [4, 4], [2, 4]\n",
    "\n",
    "for s in splits:\n",
    "    print(s.size())                 # 각 조각의 크기 출력"
   ]
  },
  {
   "cell_type": "code",
   "execution_count": 4,
   "id": "15aac33b",
   "metadata": {},
   "outputs": [
    {
     "name": "stdout",
     "output_type": "stream",
     "text": [
      "torch.Size([3, 4])\n",
      "torch.Size([3, 4])\n",
      "torch.Size([2, 4])\n"
     ]
    }
   ],
   "source": [
    "# chunk 함수: 텐서를 지정한 개수만큼 균등하게 나눔 (크기가 다를 수도 있음)\n",
    "\n",
    "x = torch.FloatTensor(8, 4)\n",
    "chunks = x.chunk(3, dim=0)      # 3개로 나눔 -> [3, 4], [3, 4], [2, 4]\n",
    "\n",
    "for c in chunks:\n",
    "    print(c.size())             # 각 청크의 크기 출력"
   ]
  },
  {
   "cell_type": "code",
   "execution_count": null,
   "id": "edf9e003",
   "metadata": {},
   "outputs": [
    {
     "name": "stdout",
     "output_type": "stream",
     "text": [
      "torch.Size([3, 2, 2])\n",
      "tensor([[[5., 5.],\n",
      "         [6., 6.]],\n",
      "\n",
      "        [[3., 3.],\n",
      "         [4., 4.]]])\n",
      "torch.Size([2, 2, 2])\n"
     ]
    }
   ],
   "source": [
    "# index_select 함수: 주어진 인덱스를 기준으로 특정 차원에서 선택\n",
    "\n",
    "x = torch.FloatTensor([[[1, 1],\n",
    "                        [2, 2]],\n",
    "                        [[3, 3],\n",
    "                        [4, 4]],\n",
    "                        [[5, 5],\n",
    "                        [6, 6]]])\n",
    "indice = torch.LongTensor([2, 1])           # 선택할 인덱스\n",
    "\n",
    "print(x.size())                             # 원본 텐서 크기: [3, 2, 2]\n",
    "y = x.index_select(dim=0, index=indice)     # 0번 차원에서 2번, 1번 순으로 선택\n",
    "print(y)\n",
    "print(y.size())                             # 선택된 결과 크기: [2, 2, 2]\n"
   ]
  },
  {
   "cell_type": "code",
   "execution_count": 6,
   "id": "fd7995e3",
   "metadata": {},
   "outputs": [
    {
     "name": "stdout",
     "output_type": "stream",
     "text": [
      "torch.Size([3, 3]) torch.Size([3, 3])\n",
      "tensor([[ 1.,  2.,  3.],\n",
      "        [ 4.,  5.,  6.],\n",
      "        [ 7.,  8.,  9.],\n",
      "        [10., 11., 12.],\n",
      "        [13., 14., 15.],\n",
      "        [16., 17., 18.]])\n",
      "torch.Size([6, 3])\n",
      "tensor([[ 1.,  2.,  3., 10., 11., 12.],\n",
      "        [ 4.,  5.,  6., 13., 14., 15.],\n",
      "        [ 7.,  8.,  9., 16., 17., 18.]])\n",
      "torch.Size([3, 6])\n"
     ]
    }
   ],
   "source": [
    "# cat 함수: 여러 텐서를 특정 차원에서 연결\n",
    "\n",
    "x = torch.FloatTensor([[1, 2, 3],\n",
    "                        [4, 5, 6],\n",
    "                        [7, 8, 9]])\n",
    "y = torch.FloatTensor([[10, 11, 12],\n",
    "                        [13, 14, 15],\n",
    "                        [16, 17, 18]])\n",
    "print(x.size(), y.size())           # 둘 다 크기: [3, 3]\n",
    "\n",
    "z = torch.cat([x, y], dim=0)\n",
    "print(z)\n",
    "print(z.size())                     # 행 방향으로 연결 -> 크기: [6, 3]\n",
    "\n",
    "z = torch.cat([x, y], dim=1)\n",
    "print(z)\n",
    "print(z.size())                     # 열 방향으로 연결 -> 크기: [3, 6]"
   ]
  },
  {
   "cell_type": "code",
   "execution_count": 7,
   "id": "2e5087a8",
   "metadata": {},
   "outputs": [
    {
     "name": "stdout",
     "output_type": "stream",
     "text": [
      "tensor([[[ 1.,  2.,  3.],\n",
      "         [ 4.,  5.,  6.],\n",
      "         [ 7.,  8.,  9.]],\n",
      "\n",
      "        [[10., 11., 12.],\n",
      "         [13., 14., 15.],\n",
      "         [16., 17., 18.]]])\n",
      "torch.Size([2, 3, 3])\n",
      "tensor([[[ 1.,  2.,  3.],\n",
      "         [10., 11., 12.]],\n",
      "\n",
      "        [[ 4.,  5.,  6.],\n",
      "         [13., 14., 15.]],\n",
      "\n",
      "        [[ 7.,  8.,  9.],\n",
      "         [16., 17., 18.]]])\n",
      "torch.Size([3, 2, 3])\n"
     ]
    }
   ],
   "source": [
    "# stack 함수: 새로운 차원을 추가하여 텐서들을 쌓음\n",
    "\n",
    "z = torch.stack([x, y])\n",
    "print(z)\n",
    "print(z.size())                     # 0번 차원에 쌓기 -> 크기: [2, 3, 3]\n",
    "\n",
    "z = torch.stack([x, y], dim=1)\n",
    "print(z)\n",
    "print(z.size())                     # 1번 차원에 쌓기 -> 크기: [3, 2, 3]"
   ]
  }
 ],
 "metadata": {
  "kernelspec": {
   "display_name": "base",
   "language": "python",
   "name": "python3"
  },
  "language_info": {
   "codemirror_mode": {
    "name": "ipython",
    "version": 3
   },
   "file_extension": ".py",
   "mimetype": "text/x-python",
   "name": "python",
   "nbconvert_exporter": "python",
   "pygments_lexer": "ipython3",
   "version": "3.11.10"
  }
 },
 "nbformat": 4,
 "nbformat_minor": 5
}
