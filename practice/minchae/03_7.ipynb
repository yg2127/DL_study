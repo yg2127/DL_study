{
 "cells": [
  {
   "cell_type": "code",
   "execution_count": null,
   "id": "fbe5ee6d",
   "metadata": {},
   "outputs": [],
   "source": [
    "import torch"
   ]
  },
  {
   "cell_type": "code",
   "execution_count": null,
   "id": "6a300fb4",
   "metadata": {},
   "outputs": [],
   "source": [
    "# expand 함수: 크기가 1인 차원을 원하는 크기로 확장 (메모리는 공유됨)\n",
    "\n",
    "x = torch.FloatTensor([[[1, 2]],\n",
    "                        [[3, 4]]])\n",
    "print(x.size())             # 크기: [2, 1, 2]\n",
    "\n",
    "y = x.expand(2, 3, 2)       # 1번 차원을 3으로 확장 -> 브로드캐스팅된 텐서\n",
    "print(y)\n",
    "print(y.size())             # 크기: [2, 3, 2]"
   ]
  },
  {
   "cell_type": "code",
   "execution_count": null,
   "id": "e20c158a",
   "metadata": {},
   "outputs": [],
   "source": [
    "# randperm 함수: 0부터 n - 1까지의 정수를 무작위로 섞은 텐서 생성\n",
    "\n",
    "x = torch.randperm(10)\n",
    "print(x)\n",
    "print(x.size()) # 크기: [10]"
   ]
  },
  {
   "cell_type": "code",
   "execution_count": null,
   "id": "a2868af1",
   "metadata": {},
   "outputs": [],
   "source": [
    "# argmax 함수: 주어진 차원에서 가장 큰 값의 인덱스를 반환\n",
    "\n",
    "x = torch.FloatTensor([i for i in range(3**3)]).reshape(3, 3, 3)\n",
    "print(x)\n",
    "print(x.size())         # 크기: [3, 3, 3]\n",
    "\n",
    "y = x.argmax(dim=-1)    # 마지막 차원에서 최대값의 인덱스를 반환 -> 크기: [3, 3]\n",
    "print(y)\n",
    "print(y.size())"
   ]
  },
  {
   "cell_type": "code",
   "execution_count": null,
   "id": "86829aa2",
   "metadata": {},
   "outputs": [],
   "source": [
    "# topk 함수: 주어진 차원에서 상위 k개의 값과 인덱스를 반환\n",
    "\n",
    "values, indices = torch.topk(x, k=1, dim=-1)    # 마지막 차원에서 top1\n",
    "print(values.size())                            # 크기: [3, 3, 1]\n",
    "print(indices.size())                           # 크기: [3, 3, 1]\n",
    "\n",
    "_, indices = torch.topk(x, k=2, dim=-1)         # top2 인덱스만 추출\n",
    "print(indices.size())                           # 크기: [3, 3, 2]"
   ]
  },
  {
   "cell_type": "code",
   "execution_count": null,
   "id": "1159b121",
   "metadata": {},
   "outputs": [],
   "source": [
    "# masked_fill 함수: 조건을 만족하는 위치에 특정 값을 채움\n",
    "\n",
    "x = torch.FloatTensor([i for i in range(3**2)]).reshape(3, -1)\n",
    "print(x)\n",
    "print(x.size())                         # 크기: [3, 3]\n",
    "\n",
    "y = x.masked_fill(x > 4, value=-1)      # 4보다 큰 값에 -1을 채움\n",
    "print(y)"
   ]
  },
  {
   "cell_type": "code",
   "execution_count": null,
   "id": "ce42ea56",
   "metadata": {},
   "outputs": [],
   "source": [
    "# ones, zeros 함수: 모든 값이 1 또는 0인 텐서를 생성\n",
    "\n",
    "print(torch.ones(2, 3))         # 2 x 3 텐서, 값은 모두 1\n",
    "print(torch.zeros(2, 3))        # 2 x 3 텐서, 값은 모두 0\n",
    "\n",
    "x = torch.FloatTensor([i for i in range(1, 7)]).reshape(2, 3)\n",
    "print(x.size())                 # 크기: [2, 3]\n",
    "print(torch.ones_like(x))       # x와 같은 크기의 텐서를 생성, 값은 모두 1\n",
    "print(torch.zeros_like(x))      # x와 같은 크기의 텐서를 생성, 값은 모두 0"
   ]
  }
 ],
 "metadata": {
  "kernelspec": {
   "display_name": "base",
   "language": "python",
   "name": "python3"
  },
  "language_info": {
   "codemirror_mode": {
    "name": "ipython",
    "version": 3
   },
   "file_extension": ".py",
   "mimetype": "text/x-python",
   "name": "python",
   "nbconvert_exporter": "python",
   "pygments_lexer": "ipython3",
   "version": "3.11.10"
  }
 },
 "nbformat": 4,
 "nbformat_minor": 5
}
