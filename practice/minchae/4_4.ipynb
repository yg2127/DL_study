{
 "cells": [
  {
   "cell_type": "code",
   "execution_count": 1,
   "id": "07ac3151",
   "metadata": {},
   "outputs": [],
   "source": [
    "import torch\n",
    "import torch.nn as nn"
   ]
  },
  {
   "cell_type": "code",
   "execution_count": 2,
   "id": "ed8b8cca",
   "metadata": {},
   "outputs": [],
   "source": [
    "# 사용자 정의 선형 계층 클래스 정의\n",
    "\n",
    "class MyLinear(nn.Module):\n",
    "\n",
    "    def __init__(self, input_dim=3, output_dim=2):\n",
    "        # 입력 차원과 출력 차원 설정\n",
    "        self.input_dim = input_dim\n",
    "        self.output_dim = output_dim\n",
    "\n",
    "        super().__init__() # nn.Module 초기화\n",
    "\n",
    "        # 가중치 W와 편향 b를 학습 가능한 파라미터로 등록\n",
    "        self.W = nn.Parameter(torch.FloatTensor(input_dim, output_dim))\n",
    "        self.b = nn.Parameter(torch.FloatTensor(output_dim))\n",
    "\n",
    "    def forward(self, x):\n",
    "        # 선형 변환 수행: y = Wx + b\n",
    "        y = torch.matmul(x, self.W) + self.b\n",
    "        return y"
   ]
  },
  {
   "cell_type": "code",
   "execution_count": 3,
   "id": "4796cf7f",
   "metadata": {},
   "outputs": [],
   "source": [
    "# 테스트용 데이터\n",
    "W = torch.FloatTensor([i for i in range(1, 7)]).reshape(3, 2)\n",
    "b = torch.FloatTensor([2, 2])\n",
    "x = torch.FloatTensor(4, 3)"
   ]
  },
  {
   "cell_type": "code",
   "execution_count": null,
   "id": "2f4b60f8",
   "metadata": {},
   "outputs": [
    {
     "name": "stdout",
     "output_type": "stream",
     "text": [
      "Parameter containing:\n",
      "tensor([[0., 0.],\n",
      "        [0., 0.],\n",
      "        [0., 0.]], requires_grad=True)\n",
      "Parameter containing:\n",
      "tensor([7.9688e+37, 4.5825e-41], requires_grad=True)\n"
     ]
    }
   ],
   "source": [
    "linear = MyLinear(3, 2)     # MyLinear 클래스 인스턴스 생성\n",
    "y = linear(x)               # 입력 데이터를 선형 계층에 통과시킴\n",
    "\n",
    "# 학습 가능한 파라미터 출력 (가중치 W와 편향 b)\n",
    "for p in linear.parameters():\n",
    "    print(p)"
   ]
  },
  {
   "cell_type": "code",
   "execution_count": null,
   "id": "cff782f4",
   "metadata": {},
   "outputs": [
    {
     "name": "stdout",
     "output_type": "stream",
     "text": [
      "Parameter containing:\n",
      "tensor([[ 0.3095, -0.3668, -0.0789],\n",
      "        [ 0.2531,  0.5505,  0.4001]], requires_grad=True)\n",
      "Parameter containing:\n",
      "tensor([-0.2550, -0.2457], requires_grad=True)\n"
     ]
    }
   ],
   "source": [
    "#torch.nn에 구현된 선형 계층 사용하기\n",
    "\n",
    "linear = nn.Linear(3, 2)\n",
    "y = linear(x)\n",
    "\n",
    "for p in linear.parameters():\n",
    "    print(p)"
   ]
  }
 ],
 "metadata": {
  "kernelspec": {
   "display_name": "base",
   "language": "python",
   "name": "python3"
  },
  "language_info": {
   "codemirror_mode": {
    "name": "ipython",
    "version": 3
   },
   "file_extension": ".py",
   "mimetype": "text/x-python",
   "name": "python",
   "nbconvert_exporter": "python",
   "pygments_lexer": "ipython3",
   "version": "3.11.10"
  }
 },
 "nbformat": 4,
 "nbformat_minor": 5
}
