{
 "cells": [
  {
   "cell_type": "code",
   "execution_count": 4,
   "id": "d42ca9f6",
   "metadata": {},
   "outputs": [],
   "source": [
    "import torch\n",
    "import torch.nn as nn\n",
    "import torch.nn.functional as F"
   ]
  },
  {
   "cell_type": "code",
   "execution_count": null,
   "id": "0be44f87",
   "metadata": {},
   "outputs": [
    {
     "name": "stdout",
     "output_type": "stream",
     "text": [
      "tensor(2.5000)\n"
     ]
    }
   ],
   "source": [
    "# MSE 직접 구현\n",
    "\n",
    "def MSE(x_hat, x):\n",
    "    return ((x - x_hat)**2).mean() # (예측 - 정답)^2 후 평균\n",
    "\n",
    "x = torch.FloatTensor([[1, 1],\n",
    "                        [2, 2]])\n",
    "x_hat = torch.zeros_like(x)\n",
    "print(MSE(x_hat, x))"
   ]
  },
  {
   "cell_type": "code",
   "execution_count": null,
   "id": "e503ce4d",
   "metadata": {},
   "outputs": [
    {
     "name": "stdout",
     "output_type": "stream",
     "text": [
      "tensor(2.5000)\n",
      "tensor(10.)\n",
      "tensor([[1., 1.],\n",
      "        [4., 4.]])\n"
     ]
    }
   ],
   "source": [
    "# torch.nn.functional 사용하기\n",
    "\n",
    "print(F.mse_loss(x_hat, x))\n",
    "print(F.mse_loss(x_hat, x, reduction='sum'))    # 모든 요소의 제곱 오차를 합산\n",
    "print(F.mse_loss(x_hat, x, reduction='none'))   # 각 원소별 MSE 결과를 반환"
   ]
  },
  {
   "cell_type": "code",
   "execution_count": 7,
   "id": "d4475296",
   "metadata": {},
   "outputs": [
    {
     "name": "stdout",
     "output_type": "stream",
     "text": [
      "tensor(2.5000)\n"
     ]
    }
   ],
   "source": [
    "#torch.nn 사용하기\n",
    "\n",
    "mse_loss = nn.MSELoss()\n",
    "print(mse_loss(x_hat, x))"
   ]
  }
 ],
 "metadata": {
  "kernelspec": {
   "display_name": "base",
   "language": "python",
   "name": "python3"
  },
  "language_info": {
   "codemirror_mode": {
    "name": "ipython",
    "version": 3
   },
   "file_extension": ".py",
   "mimetype": "text/x-python",
   "name": "python",
   "nbconvert_exporter": "python",
   "pygments_lexer": "ipython3",
   "version": "3.11.10"
  }
 },
 "nbformat": 4,
 "nbformat_minor": 5
}
