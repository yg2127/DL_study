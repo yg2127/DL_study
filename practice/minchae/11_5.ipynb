{
 "cells": [
  {
   "cell_type": "code",
   "execution_count": null,
   "id": "232ff46f",
   "metadata": {},
   "outputs": [],
   "source": [
    "import torch\n",
    "import torch.nn as nn\n",
    "import torch.nn.functional as F\n",
    "import torch.optim as optim\n",
    "\n",
    "import pandas as pd\n",
    "import seaborn as sns\n",
    "import matplotlib.pyplot as plt\n",
    "from sklearn.preprocessing import StandardScaler\n",
    "from sklearn.datasets import fetch_california_housing"
   ]
  },
  {
   "cell_type": "code",
   "execution_count": null,
   "id": "1e5b9bf9",
   "metadata": {},
   "outputs": [],
   "source": [
    "# scikit-learn에서 데이터셋 받아오고 확인하기\n",
    "\n",
    "california = fetch_california_housing()\n",
    "df = pd.DataFrame(california.data, columns=california.feature_names)\n",
    "df[\"Target\"] = california.target\n",
    "print(df.tail())"
   ]
  },
  {
   "cell_type": "code",
   "execution_count": null,
   "id": "8f08c2de",
   "metadata": {},
   "outputs": [],
   "source": [
    "# 데이터 정규화\n",
    "\n",
    "scaler = StandardScaler()\n",
    "df.iloc[:, :-1] = scaler.fit_transform(df.iloc[:, :-1])\n",
    "print(df.tail())"
   ]
  },
  {
   "cell_type": "code",
   "execution_count": null,
   "id": "15ea028d",
   "metadata": {},
   "outputs": [],
   "source": [
    "# 데이터 준비\n",
    "data = torch.from_numpy(df.values).float()\n",
    "\n",
    "x = data[:, :-1]    # 마지막 행을 제외한 행들을 x로 설정\n",
    "y = data[:, -1:]    # 마지막 행만 y로 설정\n",
    "\n",
    "print(x.shape, y.shape)\n",
    "\n",
    "# 학습 설정\n",
    "epochs = 4000       # 학습 반복 횟수\n",
    "batch_size = 256    # 배치 사이즈\n",
    "interval = 200      # 학습 결과를 출력할 간격"
   ]
  },
  {
   "cell_type": "code",
   "execution_count": null,
   "id": "2f0fcee0",
   "metadata": {},
   "outputs": [],
   "source": [
    "# 모델 정의\n",
    "\n",
    "model = nn.Sequential(\n",
    "    nn.Linear(x.size(-1), 6),\n",
    "    nn.LeakyReLU(),\n",
    "    nn.Linear(6, 5),\n",
    "    nn.LeakyReLU(),\n",
    "    nn.Linear(5, 4),\n",
    "    nn.LeakyReLU(),\n",
    "    nn.Linear(4, 3),\n",
    "    nn.LeakyReLU(),\n",
    "    nn.Linear(3, y.size(-1))\n",
    ")\n",
    "\n",
    "print(model)\n",
    "optimizer = optim.Adam(model.parameters()) # 옵티마이저 함수로 Adam 사용, 학습률 필요 X"
   ]
  },
  {
   "cell_type": "code",
   "execution_count": null,
   "id": "cc26cc50",
   "metadata": {},
   "outputs": [],
   "source": [
    "# 모델 학습\n",
    "for i in range(epochs):\n",
    "    # 데이터 섞기 (무작위 인덱스 생성)\n",
    "    indices = torch.randperm(x.size(0))\n",
    "\n",
    "    # 입력 데이터와 정답 레이블을 같은 순서로 섞음\n",
    "    x_ = torch.index_select(x, dim=0, index=indices)\n",
    "    y_ = torch.index_select(y, dim=0, index=indices)\n",
    "\n",
    "    # 미니 배치로 분할\n",
    "    x_ = x_.split(batch_size, dim=0)\n",
    "    y_ = y_.split(batch_size, dim=0)\n",
    "\n",
    "    y_hat = []                          # 예측값을 저장할 리스트\n",
    "    total_loss = 0                      # 전체 loss 누적값 초기화\n",
    "\n",
    "    # 각 미니 배치에 대해 학습\n",
    "    for x_i, y_i in zip(x_, y_):\n",
    "        y_hat_i = model(x_i)            # 모델 예측값 계산\n",
    "        loss = F.mse_loss(y_hat_i, y_i) # MSE 손실 계산\n",
    "\n",
    "        optimizer.zero_grad()           # 기울기 초기화\n",
    "        loss.backward()                 # 역전파로 기울기 계산\n",
    "        optimizer.step()                # 가중치 업데이트\n",
    "\n",
    "        total_loss += float(loss)       # 손실 누적\n",
    "        y_hat += [y_hat_i]              # 예측값 저장\n",
    "        \n",
    "    total_loss /= len(x_)               # epoch별 평균 손실 계산\n",
    "\n",
    "    # 학습 진행 상황 출력\n",
    "    if (i + 1) % interval == 0:\n",
    "        print('Epoch %d: loss=%.4e' % (i + 1, total_loss))\n",
    "\n",
    "# 전체 예측값과 정답 레이블을 하나로 합치기\n",
    "y_hat = torch.cat(y_hat, dim=0)\n",
    "y = torch.cat(y_, dim=0)"
   ]
  },
  {
   "cell_type": "code",
   "execution_count": null,
   "id": "a7b8746c",
   "metadata": {},
   "outputs": [],
   "source": [
    "# 결과 시각화\n",
    "\n",
    "df = pd.DataFrame(torch.cat([y, y_hat], dim=1).detach().numpy(), columns=[\"y\", \"y_hat\"])\n",
    "\n",
    "sns.pairplot(df, height=5)\n",
    "plt.show()"
   ]
  }
 ],
 "metadata": {
  "kernelspec": {
   "display_name": "base",
   "language": "python",
   "name": "python3"
  },
  "language_info": {
   "codemirror_mode": {
    "name": "ipython",
    "version": 3
   },
   "file_extension": ".py",
   "mimetype": "text/x-python",
   "name": "python",
   "nbconvert_exporter": "python",
   "pygments_lexer": "ipython3",
   "version": "3.11.10"
  }
 },
 "nbformat": 4,
 "nbformat_minor": 5
}
