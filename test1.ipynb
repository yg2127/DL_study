{
 "cells": [
  {
   "cell_type": "code",
   "id": "initial_id",
   "metadata": {
    "collapsed": true,
    "ExecuteTime": {
     "end_time": "2025-04-07T14:04:39.919900Z",
     "start_time": "2025-04-07T14:04:39.916495Z"
    }
   },
   "source": [
    "print(\"hello\")\n",
    "print(\"안녕하세요! 원래 main에서는 push하면 안되는데 이 test ipynb위에선 자유롭게 해보세요!\")"
   ],
   "outputs": [
    {
     "name": "stdout",
     "output_type": "stream",
     "text": [
      "hello\n"
     ]
    }
   ],
   "execution_count": 1
  },
  {
   "metadata": {},
   "cell_type": "code",
   "outputs": [],
   "execution_count": null,
   "source": "",
   "id": "ebfa7a46b3db8296"
  }
 ],
 "metadata": {
  "kernelspec": {
   "display_name": "Python (conda-ygenvironment)",
   "language": "python",
   "name": "ygenvironment"
  },
  "language_info": {
   "codemirror_mode": {
    "name": "ipython",
    "version": 2
   },
   "file_extension": ".py",
   "mimetype": "text/x-python",
   "name": "python",
   "nbconvert_exporter": "python",
   "pygments_lexer": "ipython2",
   "version": "2.7.6"
  }
 },
 "nbformat": 4,
 "nbformat_minor": 5
}
