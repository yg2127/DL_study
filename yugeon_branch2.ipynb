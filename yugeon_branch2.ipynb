{
 "cells": [
  {
   "metadata": {
    "ExecuteTime": {
     "end_time": "2025-03-31T08:21:25.660156Z",
     "start_time": "2025-03-31T08:21:25.655834Z"
    }
   },
   "cell_type": "code",
   "source": "print(\"test\")",
   "id": "8a604a9958d5d106",
   "outputs": [
    {
     "name": "stdout",
     "output_type": "stream",
     "text": [
      "test\n"
     ]
    }
   ],
   "execution_count": 1
  },
  {
   "metadata": {},
   "cell_type": "code",
   "outputs": [],
   "execution_count": null,
   "source": "",
   "id": "2948e2fe3d050051"
  }
 ],
 "metadata": {
  "kernelspec": {
   "display_name": "Python (conda-ygenvironment)",
   "language": "python",
   "name": "ygenvironment"
  },
  "language_info": {
   "codemirror_mode": {
    "name": "ipython",
    "version": 2
   },
   "file_extension": ".py",
   "mimetype": "text/x-python",
   "name": "python",
   "nbconvert_exporter": "python",
   "pygments_lexer": "ipython2",
   "version": "2.7.6"
  }
 },
 "nbformat": 4,
 "nbformat_minor": 5
}
